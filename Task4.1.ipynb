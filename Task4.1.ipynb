{
 "cells": [
  {
   "cell_type": "code",
   "execution_count": 1,
   "id": "3ac6dd29",
   "metadata": {},
   "outputs": [],
   "source": [
    "#importing all the libraries\n",
    "import cv2\n",
    "import numpy as np"
   ]
  },
  {
   "cell_type": "code",
   "execution_count": 2,
   "id": "93c451e8",
   "metadata": {},
   "outputs": [],
   "source": [
    "#created an image show function \n",
    "def showimg(image_name):\n",
    "    cv2.imshow(\"Image\", image_name)\n",
    "    cv2.waitKey()\n",
    "    cv2.destroyAllWindows()"
   ]
  },
  {
   "cell_type": "code",
   "execution_count": 4,
   "id": "3984d8a7",
   "metadata": {},
   "outputs": [],
   "source": [
    "#creating my own image with the rectangle in it\n",
    "created_image = np.zeros((480, 640, 3))\n",
    "\n",
    "GREEN = (0,255,0)\n",
    "p2 = 80, 40  \n",
    "p3 = 550, 300\n",
    "cv2.rectangle(created_image, p2, p3, GREEN, cv2.FILLED)\n",
    "\n",
    "cv2.imwrite(\"createdimgT4_1.jpg\", created_image)\n",
    "img1 = cv2.imread('createdimgT4_1.jpg')\n",
    "showimg(img1)"
   ]
  },
  {
   "cell_type": "code",
   "execution_count": null,
   "id": "4981c7ac",
   "metadata": {},
   "outputs": [],
   "source": []
  }
 ],
 "metadata": {
  "kernelspec": {
   "display_name": "Python 3",
   "language": "python",
   "name": "python3"
  },
  "language_info": {
   "codemirror_mode": {
    "name": "ipython",
    "version": 3
   },
   "file_extension": ".py",
   "mimetype": "text/x-python",
   "name": "python",
   "nbconvert_exporter": "python",
   "pygments_lexer": "ipython3",
   "version": "3.8.10"
  }
 },
 "nbformat": 4,
 "nbformat_minor": 5
}
