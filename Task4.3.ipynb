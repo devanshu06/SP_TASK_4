{
 "cells": [
  {
   "cell_type": "code",
   "execution_count": 37,
   "id": "f29190de",
   "metadata": {},
   "outputs": [],
   "source": [
    "# import cv2 library\n",
    "import cv2\n",
    "  \n",
    "# read the images\n",
    "img1 = cv2.imread('Cute1.jpg')\n",
    "img2 = cv2.imread('Cute2.jpg')"
   ]
  },
  {
   "cell_type": "code",
   "execution_count": 38,
   "id": "dd0da19b",
   "metadata": {},
   "outputs": [],
   "source": [
    "#Creating the photo showing function\n",
    "def showimg(image_name):\n",
    "    cv2.imshow(\"Image\", image_name)\n",
    "    cv2.waitKey()\n",
    "    cv2.destroyAllWindows()"
   ]
  },
  {
   "cell_type": "code",
   "execution_count": 10,
   "id": "4b643ed4",
   "metadata": {},
   "outputs": [],
   "source": [
    "showimg(img1)\n",
    "showimg(img2)"
   ]
  },
  {
   "cell_type": "code",
   "execution_count": 39,
   "id": "34cc1264",
   "metadata": {},
   "outputs": [
    {
     "data": {
      "text/plain": [
       "(183, 275, 3)"
      ]
     },
     "execution_count": 39,
     "metadata": {},
     "output_type": "execute_result"
    }
   ],
   "source": [
    "img1.shape"
   ]
  },
  {
   "cell_type": "code",
   "execution_count": 40,
   "id": "324057bc",
   "metadata": {},
   "outputs": [
    {
     "data": {
      "text/plain": [
       "(225, 225, 3)"
      ]
     },
     "execution_count": 40,
     "metadata": {},
     "output_type": "execute_result"
    }
   ],
   "source": [
    "img2.shape"
   ]
  },
  {
   "cell_type": "code",
   "execution_count": 41,
   "id": "3b04aad5",
   "metadata": {},
   "outputs": [],
   "source": [
    "img1 = img1[:225, :225]\n",
    "showimg(img1)"
   ]
  },
  {
   "cell_type": "code",
   "execution_count": 42,
   "id": "36b274d2",
   "metadata": {},
   "outputs": [],
   "source": [
    "img2 = img2[:225, :225]\n",
    "showimg(img2)"
   ]
  },
  {
   "cell_type": "code",
   "execution_count": 48,
   "id": "106b1600",
   "metadata": {},
   "outputs": [],
   "source": [
    "im_v = cv2.vconcat([img1, img2])\n",
    "showimg(im_v)"
   ]
  },
  {
   "cell_type": "code",
   "execution_count": 5,
   "id": "3c78c52d",
   "metadata": {},
   "outputs": [],
   "source": []
  },
  {
   "cell_type": "code",
   "execution_count": null,
   "id": "608e1a84",
   "metadata": {},
   "outputs": [],
   "source": []
  },
  {
   "cell_type": "code",
   "execution_count": null,
   "id": "f1403284",
   "metadata": {},
   "outputs": [],
   "source": []
  }
 ],
 "metadata": {
  "kernelspec": {
   "display_name": "Python 3",
   "language": "python",
   "name": "python3"
  },
  "language_info": {
   "codemirror_mode": {
    "name": "ipython",
    "version": 3
   },
   "file_extension": ".py",
   "mimetype": "text/x-python",
   "name": "python",
   "nbconvert_exporter": "python",
   "pygments_lexer": "ipython3",
   "version": "3.8.10"
  }
 },
 "nbformat": 4,
 "nbformat_minor": 5
}
